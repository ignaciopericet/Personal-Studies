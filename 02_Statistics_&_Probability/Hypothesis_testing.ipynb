{
 "cells": [
  {
   "metadata": {},
   "cell_type": "markdown",
   "source": [
    "# Testing Alpha in Asset Princing Models\n",
    "To test alpha in asset pricing models using Python in a Jupyter notebook, we can use real-world financial data (e.g., from Yahoo Finance) and libraries like pandas, numpy, statsmodels, and yfinance. We'll focus on CAPM and a multi-factor model like Fama-French."
   ],
   "id": "b5d09f51b5482a3c"
  },
  {
   "metadata": {},
   "cell_type": "markdown",
   "source": [
    "### Step 1: Install Required Libraries\n",
    "First, make sure you have all necessary packages installed."
   ],
   "id": "10cc6bbce49a4c8a"
  },
  {
   "metadata": {},
   "cell_type": "code",
   "outputs": [],
   "execution_count": null,
   "source": "!pip install yfinance statsmodels",
   "id": "904f1e9890ab38a4"
  },
  {
   "metadata": {},
   "cell_type": "markdown",
   "source": "### Step 2: Import Libraries",
   "id": "25bc1173531d7ef"
  },
  {
   "cell_type": "code",
   "id": "initial_id",
   "metadata": {
    "collapsed": true,
    "ExecuteTime": {
     "end_time": "2024-09-09T14:19:28.100446Z",
     "start_time": "2024-09-09T14:19:28.078438Z"
    }
   },
   "source": [
    "import yfinance as yf\n",
    "import pandas as pd\n",
    "import statsmodels.api as sm\n",
    "import matplotlib.pyplot as plt"
   ],
   "outputs": [],
   "execution_count": 77
  },
  {
   "metadata": {},
   "cell_type": "markdown",
   "source": [
    "### Step 3: Download Financial Data\n",
    "We'll use the yfinance library to download data for a chosen asset (e.g., Apple Inc.) and a market benchmark (e.g., S&P 500)."
   ],
   "id": "f702b0cc9bb304f5"
  },
  {
   "metadata": {
    "ExecuteTime": {
     "end_time": "2024-09-09T14:21:28.235372Z",
     "start_time": "2024-09-09T14:21:27.654744Z"
    }
   },
   "cell_type": "code",
   "source": [
    "# Download asset data (e.g., MSFT) and benchmark (e.g., S&P 500)\n",
    "asset = yf.download('MSFT', start='2018-01-01', end='2024-01-01')['Adj Close']\n",
    "market = yf.download('^GSPC', start='2018-01-01', end='2024-01-01')['Adj Close']\n",
    "\n",
    "# Convert to daily returns\n",
    "asset_returns = asset.pct_change().dropna()\n",
    "market_returns = market.pct_change().dropna()\n",
    "\n",
    "asset_returns.sum()"
   ],
   "id": "ac583093c05c2428",
   "outputs": [
    {
     "name": "stderr",
     "output_type": "stream",
     "text": [
      "[*********************100%***********************]  1 of 1 completed\n",
      "[*********************100%***********************]  1 of 1 completed\n"
     ]
    },
    {
     "data": {
      "text/plain": [
       "2.0439043397500245"
      ]
     },
     "execution_count": 94,
     "metadata": {},
     "output_type": "execute_result"
    }
   ],
   "execution_count": 94
  },
  {
   "metadata": {},
   "cell_type": "markdown",
   "source": [
    "### Step 4: Calculate Excess Returns\n",
    "To test for alpha, we need excess returns, which are returns above the risk-free rate. For simplicity, we’ll assume a constant risk-free rate (e.g., 0.02 annualized)."
   ],
   "id": "3d58d774b5cdb2d4"
  },
  {
   "metadata": {
    "ExecuteTime": {
     "end_time": "2024-09-09T14:21:32.878681Z",
     "start_time": "2024-09-09T14:21:32.858967Z"
    }
   },
   "cell_type": "code",
   "source": [
    "risk_free_rate = 0.05 / 252  # Adjusted for daily returns\n",
    "excess_asset_returns = asset_returns - risk_free_rate\n",
    "excess_market_returns = market_returns - risk_free_rate"
   ],
   "id": "e6c0a8a295f4b48d",
   "outputs": [],
   "execution_count": 95
  },
  {
   "metadata": {},
   "cell_type": "markdown",
   "source": [
    "### Step 5: CAPM Model (Single Factor)\n",
    "Now we’ll run a regression to model the relationship between the asset’s returns and the market returns. CAPM is a simple linear regression where the excess asset return is regressed against excess market returns:"
   ],
   "id": "e8ac71966a216488"
  },
  {
   "metadata": {
    "ExecuteTime": {
     "end_time": "2024-09-09T14:21:36.398210Z",
     "start_time": "2024-09-09T14:21:36.336220Z"
    }
   },
   "cell_type": "code",
   "source": [
    "# Add constant for intercept (alpha)\n",
    "X = sm.add_constant(excess_market_returns)\n",
    "y = excess_asset_returns\n",
    "\n",
    "# Run OLS regression\n",
    "capm_model = sm.OLS(y, X).fit()\n",
    "\n",
    "# Display the results\n",
    "print(capm_model.summary())"
   ],
   "id": "c0611adfd211fe97",
   "outputs": [
    {
     "name": "stdout",
     "output_type": "stream",
     "text": [
      "                            OLS Regression Results                            \n",
      "==============================================================================\n",
      "Dep. Variable:              Adj Close   R-squared:                       0.528\n",
      "Model:                            OLS   Adj. R-squared:                  0.527\n",
      "Method:                 Least Squares   F-statistic:                     1683.\n",
      "Date:                Mon, 09 Sep 2024   Prob (F-statistic):          1.35e-247\n",
      "Time:                        10:21:36   Log-Likelihood:                 4116.5\n",
      "No. Observations:                1508   AIC:                            -8229.\n",
      "Df Residuals:                    1506   BIC:                            -8218.\n",
      "Df Model:                           1                                         \n",
      "Covariance Type:            nonrobust                                         \n",
      "==============================================================================\n",
      "                 coef    std err          t      P>|t|      [0.025      0.975]\n",
      "------------------------------------------------------------------------------\n",
      "const          0.0008      0.000      2.008      0.045     1.9e-05       0.002\n",
      "Adj Close      1.2817      0.031     41.021      0.000       1.220       1.343\n",
      "==============================================================================\n",
      "Omnibus:                      353.804   Durbin-Watson:                   1.988\n",
      "Prob(Omnibus):                  0.000   Jarque-Bera (JB):            12717.338\n",
      "Skew:                           0.315   Prob(JB):                         0.00\n",
      "Kurtosis:                      17.213   Cond. No.                         76.8\n",
      "==============================================================================\n",
      "\n",
      "Notes:\n",
      "[1] Standard Errors assume that the covariance matrix of the errors is correctly specified.\n"
     ]
    }
   ],
   "execution_count": 96
  },
  {
   "metadata": {},
   "cell_type": "markdown",
   "source": [
    "### Step 6: Fama-French 3-Factor Model (Multi-Factor)\n",
    "We can extend this by using the Fama-French 3-Factor model, which includes market risk, size, and value factors. You can download the Fama-French data from Kenneth French’s website or use a pre-built dataset from yfinance:"
   ],
   "id": "a081671a5625da07"
  },
  {
   "metadata": {
    "ExecuteTime": {
     "end_time": "2024-09-09T14:21:43.822163Z",
     "start_time": "2024-09-09T14:21:43.608363Z"
    }
   },
   "cell_type": "code",
   "source": [
    "# Load your CSV file\n",
    "ff_factors = pd.read_csv('C:\\\\Users\\\\Student User\\\\Downloads\\\\Data\\\\FF_Research.csv')\n",
    "\n",
    "# Convert the 'Date' column to string to use the str methods\n",
    "ff_factors['Date'] = ff_factors['Date'].astype(str)\n",
    "\n",
    "# Remove rows that are not date entries (i.e., rows where 'Date' is not numeric)\n",
    "ff_factors = ff_factors[ff_factors['Date'].str.isdigit()]\n",
    "\n",
    "# Convert the 'Date' column to datetime format\n",
    "ff_factors['Date'] = pd.to_datetime(ff_factors['Date'], format='%Y%m%d')\n",
    "\n",
    "# Rename the columns to match Fama-French factors\n",
    "ff_factors.rename(columns={\n",
    "    'Mkt-RF': 'Market_Risk_Premium',\n",
    "    'SMB': 'Size_Factor',\n",
    "    'HML': 'Value_Factor',\n",
    "    'RF': 'Risk_Free_Rate'\n",
    "}, inplace=True)\n",
    "\n",
    "# Set the 'Date' column as the index\n",
    "ff_factors.set_index('Date', inplace=True)\n",
    "\n",
    "# Filter the dataset to include only data from 2018-01-01 to 2024-12-31\n",
    "ff_factors_filtered = ff_factors.loc['2018-01-01':'2024-01-01']\n",
    "\n",
    "# Display the first few rows of the filtered dataset\n",
    "print(ff_factors_filtered.head())"
   ],
   "id": "9fbb0111b5f250d5",
   "outputs": [
    {
     "name": "stdout",
     "output_type": "stream",
     "text": [
      "            Market_Risk_Premium  Size_Factor  Value_Factor  Risk_Free_Rate\n",
      "Date                                                                      \n",
      "2018-01-02                 0.85         0.35         -0.22           0.006\n",
      "2018-01-03                 0.59        -0.39         -0.18           0.006\n",
      "2018-01-04                 0.42        -0.26          0.24           0.006\n",
      "2018-01-05                 0.66        -0.36         -0.26           0.006\n",
      "2018-01-08                 0.19        -0.15          0.04           0.006\n"
     ]
    }
   ],
   "execution_count": 97
  },
  {
   "metadata": {
    "ExecuteTime": {
     "end_time": "2024-09-09T14:21:48.256996Z",
     "start_time": "2024-09-09T14:21:48.217503Z"
    }
   },
   "cell_type": "code",
   "source": [
    "# Subtract risk-free rate from the asset returns to get excess returns\n",
    "excess_asset_returns = asset_returns - ff_factors_filtered['Risk_Free_Rate']\n",
    "\n",
    "# Prepare the Fama-French factors for regression\n",
    "X_ff = sm.add_constant(ff_factors_filtered[['Market_Risk_Premium', 'Size_Factor', 'Value_Factor']])\n",
    "\n",
    "# Run the OLS regression (CAPM + Fama-French factors)\n",
    "ff_model = sm.OLS(excess_asset_returns, X_ff).fit()"
   ],
   "id": "4cc5511fb5d71741",
   "outputs": [],
   "execution_count": 98
  },
  {
   "metadata": {
    "ExecuteTime": {
     "end_time": "2024-09-09T14:21:50.715723Z",
     "start_time": "2024-09-09T14:21:50.632855Z"
    }
   },
   "cell_type": "code",
   "source": [
    "# Check for missing values in asset returns or Fama-French factors\n",
    "print(asset_returns.isna().sum())\n",
    "print(ff_factors_filtered.isna().sum())\n",
    "\n",
    "# Drop rows with missing values in either dataset\n",
    "aligned_data = pd.concat([excess_asset_returns, ff_factors_filtered], axis=1).dropna()\n",
    "\n",
    "# Separate the dependent and independent variables after alignment\n",
    "y_aligned = aligned_data.iloc[:, 0]  # Excess asset returns\n",
    "X_aligned = sm.add_constant(aligned_data[['Market_Risk_Premium', 'Size_Factor', 'Value_Factor']])\n",
    "\n",
    "# Run the OLS regression again\n",
    "ff_model_aligned = sm.OLS(y_aligned, X_aligned).fit()\n",
    "\n",
    "# Display the updated regression results\n",
    "print(ff_model_aligned.summary())"
   ],
   "id": "32f3ed6f1cc2675c",
   "outputs": [
    {
     "name": "stdout",
     "output_type": "stream",
     "text": [
      "0\n",
      "Market_Risk_Premium    0\n",
      "Size_Factor            0\n",
      "Value_Factor           0\n",
      "Risk_Free_Rate         0\n",
      "dtype: int64\n",
      "                            OLS Regression Results                            \n",
      "==============================================================================\n",
      "Dep. Variable:                      y   R-squared:                       0.507\n",
      "Model:                            OLS   Adj. R-squared:                  0.506\n",
      "Method:                 Least Squares   F-statistic:                     516.0\n",
      "Date:                Mon, 09 Sep 2024   Prob (F-statistic):          1.73e-230\n",
      "Time:                        10:21:50   Log-Likelihood:                 4028.3\n",
      "No. Observations:                1508   AIC:                            -8049.\n",
      "Df Residuals:                    1504   BIC:                            -8027.\n",
      "Df Model:                           3                                         \n",
      "Covariance Type:            nonrobust                                         \n",
      "=======================================================================================\n",
      "                          coef    std err          t      P>|t|      [0.025      0.975]\n",
      "---------------------------------------------------------------------------------------\n",
      "const                  -0.0062      0.000    -14.324      0.000      -0.007      -0.005\n",
      "Market_Risk_Premium     0.0125      0.000     37.626      0.000       0.012       0.013\n",
      "Size_Factor             0.0011      0.001      1.683      0.092      -0.000       0.002\n",
      "Value_Factor           -0.0016      0.000     -3.838      0.000      -0.002      -0.001\n",
      "==============================================================================\n",
      "Omnibus:                      266.374   Durbin-Watson:                   1.699\n",
      "Prob(Omnibus):                  0.000   Jarque-Bera (JB):             5633.995\n",
      "Skew:                          -0.042   Prob(JB):                         0.00\n",
      "Kurtosis:                      12.469   Cond. No.                         1.98\n",
      "==============================================================================\n",
      "\n",
      "Notes:\n",
      "[1] Standard Errors assume that the covariance matrix of the errors is correctly specified.\n"
     ]
    }
   ],
   "execution_count": 99
  },
  {
   "metadata": {},
   "cell_type": "markdown",
   "source": [
    "### Step 7: Interpret Results\n",
    "Looking at the **CAPM results for Microsoft (MSFT) vs S&P 500**, here is the interpretation of the regression output:\n",
    "\n",
    "#### Alpha (Intercept: -0.0062):\n",
    "- The **alpha** is **-0.0062**, meaning that Microsoft's stock has a negative alpha of about **-0.62%** per day on average, after controlling for the market, size, and value factors. This suggests that Microsoft tends to underperform by this amount relative to what CAPM predicts.\n",
    "- The p-value for the alpha is 0.000, indicating that this result is statistically significant.\n",
    "\n",
    "#### Beta (Market Risk Premium: 0.0125):\n",
    "- The **beta** is **0.0125**, meaning that for each 1% increase in the market's excess returns (S&P 500), Microsoft's excess returns increase by **1.25%**.\n",
    "- The p-value for this coefficient is very small (close to 0), indicating that this relationship is statistically significant.\n",
    "\n",
    "#### Size Factor (0.0011):\n",
    "- The **size factor** (SMB) is **0.0011** and is not statistically significant (p-value = 0.092). This means that the size of the company (in terms of market capitalization) doesn't play a significant role in explaining Microsoft's returns relative to the market in this model.\n",
    "\n",
    "#### Value Factor (-0.0016):\n",
    "- The **value factor** (HML) is **-0.0016**, suggesting a negative relationship between Microsoft's performance and the value factor. Microsoft's stock tends to behave more like a growth stock than a value stock (since growth stocks tend to have negative exposure to the value factor). This result is statistically significant with a p-value of 0.000.\n",
    "\n",
    "#### Model Fit (R-squared: 0.507):\n",
    "- The R-squared is **0.507**, meaning the model explains about **50.7%** of the variance in Microsoft's returns. This is a decent fit, but there are other factors not captured by the model that could further explain the variance in returns.\n",
    "\n",
    "#### Conclusion:\n",
    "- Microsoft's **alpha** is **negative** and statistically significant, meaning it has underperformed relative to what CAPM predicts.\n",
    "- The **market factor (beta)** is positive and significant, showing that Microsoft has a strong correlation with the market.\n",
    "- The **size factor** is not significant, suggesting size does not influence Microsoft's returns significantly.\n",
    "- The **value factor** is negative and significant, indicating Microsoft behaves more like a growth stock than a value stock.\n"
   ],
   "id": "8b5e60d74e24a0bf"
  },
  {
   "metadata": {
    "ExecuteTime": {
     "end_time": "2024-09-09T14:21:56.879579Z",
     "start_time": "2024-09-09T14:21:56.840788Z"
    }
   },
   "cell_type": "code",
   "source": [
    "aligned_data = pd.concat([excess_market_returns, excess_asset_returns], axis=1).dropna()\n",
    "excess_market_returns_aligned = aligned_data.iloc[:, 0]\n",
    "excess_asset_returns_aligned = aligned_data.iloc[:, 1]"
   ],
   "id": "db580c8f6b2e8f98",
   "outputs": [],
   "execution_count": 100
  },
  {
   "metadata": {},
   "cell_type": "markdown",
   "source": [
    "### Step 8: Visualization\n",
    "To make this more visually appealing, we can plot the asset returns vs. market returns:"
   ],
   "id": "9a0b606d364221b3"
  },
  {
   "metadata": {
    "ExecuteTime": {
     "end_time": "2024-09-09T14:21:14.488016Z",
     "start_time": "2024-09-09T14:21:13.148849Z"
    }
   },
   "cell_type": "code",
   "source": [
    "plt.scatter(excess_market_returns_aligned, excess_asset_returns_aligned, label='Data Points')\n",
    "plt.plot(excess_market_returns_aligned, capm_model.predict(X), color='red', label='CAPM Line')\n",
    "plt.title('CAPM: Asset vs Market Excess Returns')\n",
    "plt.xlabel('Excess Market Returns')\n",
    "plt.ylabel('Excess Asset Returns')\n",
    "plt.legend()\n",
    "plt.show()"
   ],
   "id": "144c063fe7ed8fcb",
   "outputs": [
    {
     "data": {
      "text/plain": [
       "<Figure size 640x480 with 1 Axes>"
      ],
      "image/png": "[encoded data removed]"
     },
     "metadata": {},
     "output_type": "display_data"
    }
   ],
   "execution_count": 93
  },
  {
   "metadata": {},
   "cell_type": "markdown",
   "source": [
    "The **CAPM (Capital Asset Pricing Model) graph** shows the relationship between **excess returns of an asset (MSFT) and excess market returns (S&P 500)**.\n",
    "\n",
    "### Here's what the graph represents:\n",
    "\n",
    "1. **X-Axis (Excess Market Returns)**:\n",
    "   - The horizontal axis represents the **excess returns of the market**, which is typically calculated as the **returns of the market (e.g., S&P 500) minus the risk-free rate**.\n",
    "   \n",
    "2. **Y-Axis (Excess Asset Returns)**:\n",
    "   - The vertical axis represents the **excess returns of the asset** (MSFT), which is the **returns of the asset minus the risk-free rate**.\n",
    "\n",
    "3. **Data Points**:\n",
    "   - The **blue scatter points** represent actual historical data for excess returns of the asset vs. excess returns of the market. Each point corresponds to one observation period (e.g., daily or monthly data).\n",
    "\n",
    "4. **CAPM Line (Red Line)**:\n",
    "   - The **red line** represents the **CAPM regression line**, which is a linear relationship between the excess market returns (X-axis) and excess asset returns (Y-axis). This line is derived from the **beta** calculated by the CAPM regression.\n",
    "   - It shows the expected excess returns of the asset based on the excess returns of the market.\n",
    "\n",
    "### Key Observations:\n",
    "- **Slope (Beta)**: \n",
    "   - The slope of the red line indicates the **beta** of the asset with respect to the market. A **positive slope** suggests that the asset's returns generally move in the same direction as the market returns. \n",
    "   - In this case, the slope is **positive**, meaning the asset tends to increase when the market increases.\n",
    "   \n",
    "- **Spread of Data Points**:\n",
    "   - The scatter points are somewhat spread around the red CAPM line. The tighter the points are to the line, the better the model fits the data. In this case, there is some variation, which suggests that while CAPM explains some of the asset's performance, there are other factors influencing returns.\n",
    "   \n",
    "- **Outliers**:\n",
    "   - There are a few **outliers** far from the red line, indicating that the asset had returns that significantly deviated from what the CAPM predicted for those time periods.\n",
    "\n",
    "### In summary:\n",
    "This image represents the relationship between an asset's excess returns and the market's excess returns as predicted by the CAPM model. The red line shows the theoretical relationship (based on the CAPM regression), while the blue points represent the actual data. The positive slope of the CAPM line indicates a positive beta, meaning the asset tends to move in the same direction as the market, though there are deviations as indicated by the scattered data points."
   ],
   "id": "3be1b5c4dcac141"
  },
  {
   "metadata": {},
   "cell_type": "code",
   "outputs": [],
   "execution_count": null,
   "source": "",
   "id": "be302a95957d98bf"
  }
 ],
 "metadata": {
  "kernelspec": {
   "display_name": "Python 3",
   "language": "python",
   "name": "python3"
  },
  "language_info": {
   "codemirror_mode": {
    "name": "ipython",
    "version": 2
   },
   "file_extension": ".py",
   "mimetype": "text/x-python",
   "name": "python",
   "nbconvert_exporter": "python",
   "pygments_lexer": "ipython2",
   "version": "2.7.6"
  }
 },
 "nbformat": 4,
 "nbformat_minor": 5
}
