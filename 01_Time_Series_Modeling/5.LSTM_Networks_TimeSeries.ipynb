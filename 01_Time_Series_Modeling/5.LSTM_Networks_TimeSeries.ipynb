{
 "cells": [
  {
   "metadata": {},
   "cell_type": "markdown",
   "source": [
    "# LSTM Networks in Time Series Analysis\n",
    "### LSTM-Based Portfolio Optimization Using Market and Economic Data\n",
    "\n",
    "#### Introduction\n",
    "\n",
    "In this project, we aim to develop a machine learning model that utilizes Long Short-Term Memory (LSTM) networks to optimize a portfolio of selected stocks. The model will be trained on a combination of high-frequency market data and key economic indicators. By leveraging the temporal relationships and patterns in the data, our goal is to predict future stock returns and optimize the portfolio for maximum return or minimum risk.\n",
    "\n",
    "#### Project Goals:\n",
    "1. **Data Collection**: Gather high-frequency market data (e.g., daily stock prices, volume, volatility) and key economic indicators (e.g., interest rates, PMI, VIX).\n",
    "2. **Feature Engineering**: Create features that capture underlying trends and relationships, such as technical indicators and economic regimes.\n",
    "3. **Model Training**: Train an LSTM network to predict future returns based on the engineered features.\n",
    "4. **Backtesting and Evaluation**: Evaluate the model’s performance through backtesting on historical data.\n",
    "5. **Portfolio Optimization**: Use the model's predictions to optimize a portfolio, aiming to maximize return for a given level of risk.\n",
    "\n",
    "#### Purpose\n",
    "\n",
    "The purpose of this project is to explore the effectiveness of LSTM networks in portfolio management, specifically focusing on the integration of both market and economic data to enhance predictive accuracy and portfolio performance. This approach mirrors real-world strategies employed by top portfolio managers, who often combine macroeconomic insights with real-time market data to inform their investment decisions.\n"
   ],
   "id": "68f773ae65cc3b80"
  },
  {
   "metadata": {},
   "cell_type": "markdown",
   "source": [
    "### 1. Define the Objective\n",
    "You want to predict stock index prices (e.g., S&P 500, NASDAQ) using:\n",
    "\n",
    "- Macroeconomic Indicators: CPI, interest rates, unemployment rates, etc.\n",
    "- Seasonality: Capture recurring patterns during specific months or periods.\n",
    "- Economic Cycles: Include features that represent economic expansions or contractions"
   ],
   "id": "6319d4092e13af90"
  },
  {
   "metadata": {},
   "cell_type": "markdown",
   "source": [
    "### 2. Collect and Explore Data\n",
    "**Data Sources**:\n",
    "- Stock Index Data: You can get stock index price data (e.g., S&P 500) from Yahoo Finance using yfinance library.\n",
    "- Macroeconomic Data: Collect data like inflation, interest rates, unemployment rates from FRED (Federal Reserve Economic Data) or other sources such as the World Bank or OECD.\n",
    "- Seasonality and Cycles: You can manually engineer seasonal features or download cyclical economic data (e.g., business cycles)."
   ],
   "id": "eb502cc0f1b3e89a"
  },
  {
   "metadata": {},
   "cell_type": "code",
   "outputs": [],
   "execution_count": null,
   "source": [
    "import yfinance as yf\n",
    "\n",
    "# Download stock index data (e.g., S&P 500)\n",
    "sp500_data = yf.download('^GSPC', start='2010-01-01', end='2023-01-01')\n",
    "\n",
    "# Load macroeconomic data (e.g., CPI, interest rates)\n",
    "import pandas as pd\n",
    "cpi_data = pd.read_csv('macroeconomic_data.csv')  # Example macroeconomic data"
   ],
   "id": "55e6942eac20d65a"
  },
  {
   "metadata": {},
   "cell_type": "markdown",
   "source": [
    "### 3. Preprocess Data\n",
    "- Handling Missing Values:\n",
    "Fill or interpolate missing data for continuous time series to avoid gaps.\n",
    "\n",
    "- Normalization:\n",
    "Normalize the data to ensure that features with different ranges (e.g., interest rates vs. stock prices) don't negatively impact model performance."
   ],
   "id": "f2cd6e0ed271e60e"
  },
  {
   "metadata": {},
   "cell_type": "code",
   "outputs": [],
   "execution_count": null,
   "source": [
    "from sklearn.preprocessing import MinMaxScaler\n",
    "\n",
    "scaler = MinMaxScaler(feature_range=(0, 1))\n",
    "scaled_data = scaler.fit_transform(df)  # Scale the entire dataset"
   ],
   "id": "c0b1bb93c6f1fe48"
  },
  {
   "metadata": {},
   "cell_type": "markdown",
   "source": [
    "- **Create Time Series Sequences**:\n",
    "LSTM networks need sequential data. For each time step, create input sequences (e.g., past 60 days) and the target (next day’s price)."
   ],
   "id": "eaad1c9ab314afc1"
  },
  {
   "metadata": {},
   "cell_type": "code",
   "outputs": [],
   "execution_count": null,
   "source": [
    "def create_sequences(data, time_steps):\n",
    "    sequences = []\n",
    "    for i in range(len(data) - time_steps):\n",
    "        sequences.append(data[i:(i+time_steps)])\n",
    "    return np.array(sequences)\n",
    "\n",
    "# Create sequences with 60 time steps\n",
    "time_steps = 60\n",
    "X_train, y_train = create_sequences(scaled_data, time_steps)"
   ],
   "id": "3d9227ae2147813"
  },
  {
   "metadata": {},
   "cell_type": "markdown",
   "source": [
    "### 4. Feature Engineering\n",
    "- Macroeconomic Indicators:\n",
    "Combine stock index prices with other data sources (CPI, unemployment rates, interest rates, etc.)."
   ],
   "id": "7c07c1ec9bed6495"
  },
  {
   "metadata": {},
   "cell_type": "code",
   "outputs": [],
   "execution_count": null,
   "source": [
    "# Combine stock data and macroeconomic indicators into one DataFrame\n",
    "data = pd.merge(sp500_data, cpi_data, on='Date')"
   ],
   "id": "2936f9868aaabb99"
  },
  {
   "metadata": {},
   "cell_type": "markdown",
   "source": [
    "- Seasonality Features:\n",
    "Create features based on seasonality, like the month or day of the week, that could affect stock prices."
   ],
   "id": "c33c7942b4a71c35"
  },
  {
   "metadata": {},
   "cell_type": "code",
   "outputs": [],
   "execution_count": null,
   "source": [
    "data['Month'] = data.index.month\n",
    "data['DayOfWeek'] = data.index.dayofweek"
   ],
   "id": "341b8a6597afeae9"
  },
  {
   "metadata": {},
   "cell_type": "markdown",
   "source": [
    "- Economic Cycle Features:\n",
    "You can include economic cycle phases, like whether the economy is in expansion or recession, as a categorical feature."
   ],
   "id": "328600e73c092de3"
  },
  {
   "metadata": {},
   "cell_type": "code",
   "outputs": [],
   "execution_count": null,
   "source": [
    "# Manually label periods of expansion and recession (1 for expansion, 0 for recession)\n",
    "data['EconomicCycle'] = [1 if condition else 0 for condition in data['SomeEconomicData']]"
   ],
   "id": "eb8eb34f0403ffb7"
  },
  {
   "metadata": {},
   "cell_type": "markdown",
   "source": [
    "### 5. Train-Test Split\n",
    "Split your dataset into training and testing sets. The training data will be used to train the LSTM, while the testing data will evaluate the model's performance."
   ],
   "id": "4bfefed3f1e9dbeb"
  },
  {
   "metadata": {},
   "cell_type": "code",
   "outputs": [],
   "execution_count": null,
   "source": [
    "# Split the dataset into training (80%) and testing (20%)\n",
    "train_size = int(len(data) * 0.8)\n",
    "train_data, test_data = data[:train_size], data[train_size:]"
   ],
   "id": "f7b81b051393990c"
  },
  {
   "metadata": {},
   "cell_type": "markdown",
   "source": [
    "### 6. Build the LSTM Model\n",
    "Use TensorFlow/Keras to construct the LSTM model.\n",
    "\n",
    "**Model Architecture**:\n",
    "- LSTM Layers: These will capture temporal dependencies in the data.\n",
    "- Dense Layer: The output layer will predict the next stock index price."
   ],
   "id": "fc828a8999381301"
  },
  {
   "metadata": {},
   "cell_type": "code",
   "outputs": [],
   "execution_count": null,
   "source": [
    "from tensorflow.keras.models import Sequential\n",
    "from tensorflow.keras.layers import LSTM, Dense, Dropout\n",
    "\n",
    "model = Sequential()\n",
    "model.add(LSTM(units=50, return_sequences=True, input_shape=(X_train.shape[1], X_train.shape[2])))\n",
    "model.add(Dropout(0.2))\n",
    "model.add(LSTM(units=50))\n",
    "model.add(Dropout(0.2))\n",
    "model.add(Dense(1))  # Predicting one value (e.g., next day's stock price)\n",
    "\n",
    "model.compile(optimizer='adam', loss='mean_squared_error')"
   ],
   "id": "39bfac4baaaecb8d"
  },
  {
   "metadata": {},
   "cell_type": "markdown",
   "source": [
    "### 7. Train the Model\n",
    "Train the model using the prepared training data."
   ],
   "id": "44e7d9cf3286b471"
  },
  {
   "metadata": {},
   "cell_type": "code",
   "outputs": [],
   "execution_count": null,
   "source": "history = model.fit(X_train, y_train, epochs=100, batch_size=32, validation_split=0.2)",
   "id": "b35672b5140a72db"
  },
  {
   "metadata": {},
   "cell_type": "markdown",
   "source": [
    "### 8. Evaluate and Fine-Tune the Model\n",
    "Once the model is trained, evaluate its performance on the test data.\n",
    "\n",
    "**Performance Metrics**:\n",
    "\n",
    "Use performance metrics like RMSE, MAE, and direction accuracy to evaluate the model. Also, plot predicted vs. actual prices to visualize the performance."
   ],
   "id": "23895e4722ba4cc0"
  },
  {
   "metadata": {},
   "cell_type": "code",
   "outputs": [],
   "execution_count": null,
   "source": [
    "predictions = model.predict(X_test)\n",
    "# Convert scaled predictions back to original scale\n",
    "predictions = scaler.inverse_transform(predictions)"
   ],
   "id": "4998212295d31e85"
  },
  {
   "metadata": {},
   "cell_type": "code",
   "outputs": [],
   "execution_count": null,
   "source": [
    "import matplotlib.pyplot as plt\n",
    "plt.plot(actual_prices, label='Actual Prices')\n",
    "plt.plot(predicted_prices, label='Predicted Prices')\n",
    "plt.legend()\n",
    "plt.show()"
   ],
   "id": "763357a841c84ad8"
  },
  {
   "metadata": {},
   "cell_type": "markdown",
   "source": [
    "### Further Improvements\n",
    "1. Incorporate More Macroeconomic Indicators: Add more data, like GDP growth rate, manufacturing index, etc.\n",
    "2. Experiment with Feature Importance: Use techniques like SHAP to evaluate the importance of features.\n",
    "3. Tune Hyperparameters: Use Grid Search or Random Search to optimize the LSTM architecture.\n",
    "4. Use Advanced Optimizers: Experiment with different optimizers such as RMSprop or AdamW.\n",
    "\n",
    "This approach will allow you to build a comprehensive LSTM model capable of predicting stock index prices with the added advantage of considering macroeconomic factors, seasonality, and economic cycles for better accuracy."
   ],
   "id": "bf98090d05a19cab"
  },
  {
   "metadata": {},
   "cell_type": "code",
   "outputs": [],
   "execution_count": null,
   "source": "",
   "id": "4f787e0a5e3c8250"
  }
 ],
 "metadata": {
  "kernelspec": {
   "display_name": "Python 3",
   "language": "python",
   "name": "python3"
  },
  "language_info": {
   "codemirror_mode": {
    "name": "ipython",
    "version": 2
   },
   "file_extension": ".py",
   "mimetype": "text/x-python",
   "name": "python",
   "nbconvert_exporter": "python",
   "pygments_lexer": "ipython2",
   "version": "2.7.6"
  }
 },
 "nbformat": 4,
 "nbformat_minor": 5
}
